{
 "cells": [
  {
   "cell_type": "code",
   "execution_count": 9,
   "id": "7635091c",
   "metadata": {},
   "outputs": [],
   "source": [
    "import numpy as np\n",
    "import pandas as pd\n",
    "from sklearn.model_selection import train_test_split\n",
    "\n",
    "Fake_dataset = pd.read_csv('fake.csv')\n",
    "True_dataset = pd.read_csv('true.csv')"
   ]
  },
  {
   "cell_type": "code",
   "execution_count": 10,
   "id": "b56ec8fd",
   "metadata": {},
   "outputs": [
    {
     "data": {
      "text/plain": [
       "True"
      ]
     },
     "execution_count": 10,
     "metadata": {},
     "output_type": "execute_result"
    }
   ],
   "source": [
    "import torch\n",
    "torch.cuda.is_available()"
   ]
  },
  {
   "cell_type": "code",
   "execution_count": 11,
   "id": "e413c18e",
   "metadata": {},
   "outputs": [
    {
     "data": {
      "text/plain": [
       "(23481, 4)"
      ]
     },
     "execution_count": 11,
     "metadata": {},
     "output_type": "execute_result"
    }
   ],
   "source": [
    "Fake_dataset.shape"
   ]
  },
  {
   "cell_type": "code",
   "execution_count": 12,
   "id": "c5cd468f",
   "metadata": {},
   "outputs": [
    {
     "data": {
      "text/plain": [
       "(21417, 4)"
      ]
     },
     "execution_count": 12,
     "metadata": {},
     "output_type": "execute_result"
    }
   ],
   "source": [
    "True_dataset.shape"
   ]
  },
  {
   "cell_type": "code",
   "execution_count": 13,
   "id": "e9a4b262",
   "metadata": {},
   "outputs": [
    {
     "data": {
      "text/html": [
       "<div>\n",
       "<style scoped>\n",
       "    .dataframe tbody tr th:only-of-type {\n",
       "        vertical-align: middle;\n",
       "    }\n",
       "\n",
       "    .dataframe tbody tr th {\n",
       "        vertical-align: top;\n",
       "    }\n",
       "\n",
       "    .dataframe thead th {\n",
       "        text-align: right;\n",
       "    }\n",
       "</style>\n",
       "<table border=\"1\" class=\"dataframe\">\n",
       "  <thead>\n",
       "    <tr style=\"text-align: right;\">\n",
       "      <th></th>\n",
       "      <th>index</th>\n",
       "      <th>title</th>\n",
       "      <th>text</th>\n",
       "      <th>subject</th>\n",
       "      <th>date</th>\n",
       "      <th>Output_</th>\n",
       "    </tr>\n",
       "  </thead>\n",
       "  <tbody>\n",
       "    <tr>\n",
       "      <th>0</th>\n",
       "      <td>0</td>\n",
       "      <td>As U.S. budget fight looms, Republicans flip t...</td>\n",
       "      <td>WASHINGTON (Reuters) - The head of a conservat...</td>\n",
       "      <td>politicsNews</td>\n",
       "      <td>December 31, 2017</td>\n",
       "      <td>1</td>\n",
       "    </tr>\n",
       "    <tr>\n",
       "      <th>1</th>\n",
       "      <td>1</td>\n",
       "      <td>U.S. military to accept transgender recruits o...</td>\n",
       "      <td>WASHINGTON (Reuters) - Transgender people will...</td>\n",
       "      <td>politicsNews</td>\n",
       "      <td>December 29, 2017</td>\n",
       "      <td>1</td>\n",
       "    </tr>\n",
       "    <tr>\n",
       "      <th>2</th>\n",
       "      <td>2</td>\n",
       "      <td>Senior U.S. Republican senator: 'Let Mr. Muell...</td>\n",
       "      <td>WASHINGTON (Reuters) - The special counsel inv...</td>\n",
       "      <td>politicsNews</td>\n",
       "      <td>December 31, 2017</td>\n",
       "      <td>1</td>\n",
       "    </tr>\n",
       "    <tr>\n",
       "      <th>3</th>\n",
       "      <td>3</td>\n",
       "      <td>FBI Russia probe helped by Australian diplomat...</td>\n",
       "      <td>WASHINGTON (Reuters) - Trump campaign adviser ...</td>\n",
       "      <td>politicsNews</td>\n",
       "      <td>December 30, 2017</td>\n",
       "      <td>1</td>\n",
       "    </tr>\n",
       "    <tr>\n",
       "      <th>4</th>\n",
       "      <td>4</td>\n",
       "      <td>Trump wants Postal Service to charge 'much mor...</td>\n",
       "      <td>SEATTLE/WASHINGTON (Reuters) - President Donal...</td>\n",
       "      <td>politicsNews</td>\n",
       "      <td>December 29, 2017</td>\n",
       "      <td>1</td>\n",
       "    </tr>\n",
       "  </tbody>\n",
       "</table>\n",
       "</div>"
      ],
      "text/plain": [
       "   index                                              title  \\\n",
       "0      0  As U.S. budget fight looms, Republicans flip t...   \n",
       "1      1  U.S. military to accept transgender recruits o...   \n",
       "2      2  Senior U.S. Republican senator: 'Let Mr. Muell...   \n",
       "3      3  FBI Russia probe helped by Australian diplomat...   \n",
       "4      4  Trump wants Postal Service to charge 'much mor...   \n",
       "\n",
       "                                                text       subject  \\\n",
       "0  WASHINGTON (Reuters) - The head of a conservat...  politicsNews   \n",
       "1  WASHINGTON (Reuters) - Transgender people will...  politicsNews   \n",
       "2  WASHINGTON (Reuters) - The special counsel inv...  politicsNews   \n",
       "3  WASHINGTON (Reuters) - Trump campaign adviser ...  politicsNews   \n",
       "4  SEATTLE/WASHINGTON (Reuters) - President Donal...  politicsNews   \n",
       "\n",
       "                 date  Output_  \n",
       "0  December 31, 2017         1  \n",
       "1  December 29, 2017         1  \n",
       "2  December 31, 2017         1  \n",
       "3  December 30, 2017         1  \n",
       "4  December 29, 2017         1  "
      ]
     },
     "execution_count": 13,
     "metadata": {},
     "output_type": "execute_result"
    }
   ],
   "source": [
    "True_dataset['Output_'] = 1\n",
    "Fake_dataset['Output_'] = 0\n",
    "\n",
    "News = pd.concat([True_dataset,Fake_dataset])\n",
    "\n",
    "News_input = News.drop('Output_',axis=1)\n",
    "Result = News['Output_']\n",
    "\n",
    "News_input = News.dropna()\n",
    "\n",
    "News_input.reset_index(inplace=True)\n",
    "News_input.head()"
   ]
  },
  {
   "cell_type": "code",
   "execution_count": 14,
   "id": "12886034",
   "metadata": {},
   "outputs": [],
   "source": [
    "News = pd.concat([True_dataset,Fake_dataset])\n",
    "News = News.drop('date', axis=1)"
   ]
  },
  {
   "cell_type": "code",
   "execution_count": 15,
   "id": "847e992a",
   "metadata": {},
   "outputs": [
    {
     "name": "stderr",
     "output_type": "stream",
     "text": [
      "[nltk_data] Downloading package stopwords to\n",
      "[nltk_data]     C:\\Users\\Rushabh\\AppData\\Roaming\\nltk_data...\n",
      "[nltk_data]   Package stopwords is already up-to-date!\n"
     ]
    }
   ],
   "source": [
    "News_input['title']=News_input['title'].astype(str)\n",
    "News_input['text']=News_input['text'].astype(str)\n",
    "\n",
    "def lowercase(text):\n",
    "    text=text.lower()\n",
    "    return text\n",
    "\n",
    "News_input['title']=News_input['title'].apply(lowercase)\n",
    "News_input['text']=News_input['text'].apply(lowercase)\n",
    "\n",
    "import nltk\n",
    "nltk.download('stopwords')\n",
    "\n",
    "from nltk.corpus import stopwords\n",
    "import re\n",
    "\n",
    "# cleaning the text data \n",
    "\n",
    "def text_clean(text):  \n",
    "    text=re.sub(\"\\[.*#&]\",\" \",text)\n",
    "    text=re.sub(\"https?://\\S+|www\\.\\S+\",\"\",text)\n",
    "    text=re.sub(\"[^a-zA-Z0-9\\s]+\",\"\",text)\n",
    "    text = re.sub('\\w*\\d\\w*', '', text)\n",
    "    stop_words = set(stopwords.words('english'))\n",
    "    words = text.split()\n",
    "    \n",
    "    \n",
    "    filtered_words = [word for word in words if word not in stop_words]\n",
    "    text = ' '.join(filtered_words)\n",
    "\n",
    "    # Remove extra whitespace\n",
    "    text = re.sub('\\s+', ' ', text).strip()\n",
    "\n",
    "   \n",
    "    return text\n",
    "\n",
    "News_input['title']= News_input['title'].apply(text_clean)\n",
    "News_input['text']= News_input['text'].apply(text_clean)"
   ]
  },
  {
   "cell_type": "code",
   "execution_count": 16,
   "id": "9e048a61",
   "metadata": {},
   "outputs": [
    {
     "name": "stderr",
     "output_type": "stream",
     "text": [
      "[nltk_data] Downloading package stopwords to\n",
      "[nltk_data]     C:\\Users\\Rushabh\\AppData\\Roaming\\nltk_data...\n",
      "[nltk_data]   Package stopwords is already up-to-date!\n",
      "[nltk_data] Downloading package punkt to\n",
      "[nltk_data]     C:\\Users\\Rushabh\\AppData\\Roaming\\nltk_data...\n",
      "[nltk_data]   Package punkt is already up-to-date!\n"
     ]
    },
    {
     "data": {
      "text/html": [
       "<div>\n",
       "<style scoped>\n",
       "    .dataframe tbody tr th:only-of-type {\n",
       "        vertical-align: middle;\n",
       "    }\n",
       "\n",
       "    .dataframe tbody tr th {\n",
       "        vertical-align: top;\n",
       "    }\n",
       "\n",
       "    .dataframe thead th {\n",
       "        text-align: right;\n",
       "    }\n",
       "</style>\n",
       "<table border=\"1\" class=\"dataframe\">\n",
       "  <thead>\n",
       "    <tr style=\"text-align: right;\">\n",
       "      <th></th>\n",
       "      <th>index</th>\n",
       "      <th>title</th>\n",
       "      <th>text</th>\n",
       "      <th>subject</th>\n",
       "      <th>date</th>\n",
       "      <th>Output_</th>\n",
       "    </tr>\n",
       "  </thead>\n",
       "  <tbody>\n",
       "    <tr>\n",
       "      <th>0</th>\n",
       "      <td>0</td>\n",
       "      <td>us budget fight loom republican flip fiscal sc...</td>\n",
       "      <td>washington reuter head conserv republican fact...</td>\n",
       "      <td>politicsNews</td>\n",
       "      <td>December 31, 2017</td>\n",
       "      <td>1</td>\n",
       "    </tr>\n",
       "    <tr>\n",
       "      <th>1</th>\n",
       "      <td>1</td>\n",
       "      <td>us militari accept transgend recruit monday pe...</td>\n",
       "      <td>washington reuter transgend peopl allow first ...</td>\n",
       "      <td>politicsNews</td>\n",
       "      <td>December 29, 2017</td>\n",
       "      <td>1</td>\n",
       "    </tr>\n",
       "    <tr>\n",
       "      <th>2</th>\n",
       "      <td>2</td>\n",
       "      <td>senior us republican senat let mr mueller job</td>\n",
       "      <td>washington reuter special counsel investig lin...</td>\n",
       "      <td>politicsNews</td>\n",
       "      <td>December 31, 2017</td>\n",
       "      <td>1</td>\n",
       "    </tr>\n",
       "    <tr>\n",
       "      <th>3</th>\n",
       "      <td>3</td>\n",
       "      <td>fbi russia probe help australian diplomat tipo...</td>\n",
       "      <td>washington reuter trump campaign advis georg p...</td>\n",
       "      <td>politicsNews</td>\n",
       "      <td>December 30, 2017</td>\n",
       "      <td>1</td>\n",
       "    </tr>\n",
       "    <tr>\n",
       "      <th>4</th>\n",
       "      <td>4</td>\n",
       "      <td>trump want postal servic charg much amazon shi...</td>\n",
       "      <td>seattlewashington reuter presid donald trump c...</td>\n",
       "      <td>politicsNews</td>\n",
       "      <td>December 29, 2017</td>\n",
       "      <td>1</td>\n",
       "    </tr>\n",
       "  </tbody>\n",
       "</table>\n",
       "</div>"
      ],
      "text/plain": [
       "   index                                              title  \\\n",
       "0      0  us budget fight loom republican flip fiscal sc...   \n",
       "1      1  us militari accept transgend recruit monday pe...   \n",
       "2      2      senior us republican senat let mr mueller job   \n",
       "3      3  fbi russia probe help australian diplomat tipo...   \n",
       "4      4  trump want postal servic charg much amazon shi...   \n",
       "\n",
       "                                                text       subject  \\\n",
       "0  washington reuter head conserv republican fact...  politicsNews   \n",
       "1  washington reuter transgend peopl allow first ...  politicsNews   \n",
       "2  washington reuter special counsel investig lin...  politicsNews   \n",
       "3  washington reuter trump campaign advis georg p...  politicsNews   \n",
       "4  seattlewashington reuter presid donald trump c...  politicsNews   \n",
       "\n",
       "                 date  Output_  \n",
       "0  December 31, 2017         1  \n",
       "1  December 29, 2017         1  \n",
       "2  December 31, 2017         1  \n",
       "3  December 30, 2017         1  \n",
       "4  December 29, 2017         1  "
      ]
     },
     "execution_count": 16,
     "metadata": {},
     "output_type": "execute_result"
    }
   ],
   "source": [
    "# Now we import NLTK for Natural Language Processing\n",
    "\n",
    "import nltk\n",
    "nltk.download('stopwords')\n",
    "nltk.download('punkt')\n",
    "\n",
    "from nltk.stem import SnowballStemmer\n",
    "\n",
    "# initialize SnowballStemmer \n",
    "stemmer = SnowballStemmer('english')\n",
    "\n",
    "def stem_text(text):\n",
    "    # Tokenize the input text into individual words\n",
    "    tokens = nltk.word_tokenize(text)\n",
    "    \n",
    "    # Stem each token using the SnowballStemmer\n",
    "    stemmed_tokens = [stemmer.stem(token) for token in tokens]\n",
    "    \n",
    "    # Join the stemmed tokens back into a single string\n",
    "    return ' '.join(stemmed_tokens)\n",
    "\n",
    "# Apply stemming to the text data\n",
    "News_input['title']= News_input['title'].apply(stem_text)\n",
    "News_input['text']= News_input['text'].apply(stem_text)\n",
    "\n",
    "News_input.head()"
   ]
  },
  {
   "cell_type": "code",
   "execution_count": 18,
   "id": "a123546a",
   "metadata": {},
   "outputs": [],
   "source": [
    "from sklearn.feature_extraction.text import TfidfVectorizer\n",
    "from sklearn.model_selection import train_test_split\n",
    "from scipy.sparse import csr_matrix\n",
    "\n",
    "# Splitting the data into training and testing sets\n",
    "train_data, test_data, train_data_output, test_data_output = train_test_split(News_input[['title', 'text']], Result, test_size=0.4, random_state=42)\n",
    "\n",
    "# TF-IDF Vectorization\n",
    "vectorization = TfidfVectorizer()\n",
    "train_data_title_text = train_data['title'] + \" \" + train_data['text']\n",
    "test_data_title_text = test_data['title'] + \" \" + test_data['text']\n",
    "\n",
    "train_data_vectorized = vectorization.fit_transform(train_data_title_text)\n",
    "test_data_vectorized = vectorization.transform(test_data_title_text)\n",
    "X_train_vectorized = csr_matrix(train_data_vectorized)\n",
    "X_test_vectorized = csr_matrix(test_data_vectorized)"
   ]
  },
  {
   "cell_type": "code",
   "execution_count": 19,
   "id": "683be607",
   "metadata": {},
   "outputs": [],
   "source": [
    "import numpy as np\n",
    "\n",
    "#We need to compute  𝑠𝑖𝑔𝑚𝑜𝑖𝑑(𝑤𝑇𝑥+𝑏) to make predictions\n",
    "\n",
    "def sigmoid(z):\n",
    "\n",
    "    S = 1 / (1 + np.exp(-z))\n",
    "\n",
    "    return S\n",
    "\n",
    "#We need to initialize w as a vector of zeros\n",
    "\n",
    "def initialize_parameters(dim):\n",
    "    \n",
    "    w, b = np.zeros((dim,1)), 0\n",
    "        \n",
    "    return w,b\n",
    "    "
   ]
  },
  {
   "cell_type": "code",
   "execution_count": 20,
   "id": "a794cbd3",
   "metadata": {},
   "outputs": [],
   "source": [
    "#Implementing a function propagate() that computes the cost function and its gradient\n",
    "\n",
    "def propagate_batch(w, b, X_batch, Y_batch):\n",
    "    m = X_batch.shape[1]\n",
    "    # Convert the sparse matrix to a dense array\n",
    "    X_dense = X_batch.toarray()\n",
    "    # Compute the linear function\n",
    "    Z = np.dot(w.T, X_dense) + b\n",
    "    # Apply the sigmoid function\n",
    "    A = sigmoid(Z)\n",
    "    # Compute the cost\n",
    "    cost = -1/m * np.sum(Y_batch * np.log(A) + (1 - Y_batch) * np.log(1 - A))\n",
    "    # Compute the gradients\n",
    "    dw = 1/m * np.dot(X_dense, (A - Y_batch).T)\n",
    "    db = 1/m * np.sum(A - Y_batch)\n",
    "    return dw, db, cost\n"
   ]
  },
  {
   "cell_type": "code",
   "execution_count": 21,
   "id": "1cbb3633",
   "metadata": {},
   "outputs": [],
   "source": [
    "#This function optimizes w and b by running a gradient descent algorithm. The goal is to learn 𝑤 and 𝑏 by minimizing the cost function J. For a parameter 𝜃, the update rule is 𝜃=𝜃−𝛼 𝑑𝜃 where 𝛼 is the learning rate\n",
    "# Define optimization function with batch processing\n",
    "def optimize_batch(w, b, X_train, Y_train, num_iterations, learning_rate, batch_size, print_cost=False):\n",
    "    costs = []\n",
    "    m = X_train.shape[1]\n",
    "    \n",
    "    for i in range(num_iterations):\n",
    "        permutation = np.random.permutation(m)\n",
    "        shuffled_X = X_train[:, permutation]\n",
    "        shuffled_Y = Y_train[:, permutation]\n",
    "        \n",
    "        num_batches = m // batch_size\n",
    "        for j in range(num_batches):\n",
    "            start = j * batch_size\n",
    "            end = min(start + batch_size, m)\n",
    "            X_batch = shuffled_X[:, start:end]\n",
    "            Y_batch = shuffled_Y[:, start:end]\n",
    "            \n",
    "            dw, db, cost = propagate_batch(w, b, X_batch, Y_batch)\n",
    "            \n",
    "            w -= learning_rate * dw\n",
    "            b -= learning_rate * db\n",
    "        \n",
    "        if print_cost and i % 100 == 0:\n",
    "            print(f\"Cost after iteration {i}: {cost}\")\n",
    "        \n",
    "        costs.append(cost)\n",
    "    \n",
    "    return w, b, costs"
   ]
  },
  {
   "cell_type": "code",
   "execution_count": 22,
   "id": "58f54b51",
   "metadata": {},
   "outputs": [],
   "source": [
    "# Define prediction function\n",
    "def predict(w, b, X, batch_size=100):\n",
    "    m = X.shape[1]\n",
    "    Y_prediction = np.zeros((1, m))\n",
    "    w = w.reshape(X.shape[0], 1)\n",
    "    \n",
    "    # Predict in batches \n",
    "    num_batches = (m + batch_size - 1) // batch_size\n",
    "    for i in range(num_batches):\n",
    "        start = i * batch_size\n",
    "        end = min((i + 1) * batch_size, m)\n",
    "        X_batch = X[:, start:end]\n",
    "        \n",
    "        \n",
    "        X_dense = X_batch.toarray()\n",
    "        A_batch = sigmoid(np.dot(w.T, X_dense) + b)\n",
    "        Y_prediction[:, start:end] = (A_batch > 0.5).astype(int)\n",
    "    \n",
    "    return Y_prediction\n"
   ]
  },
  {
   "cell_type": "code",
   "execution_count": 23,
   "id": "6ac55325",
   "metadata": {},
   "outputs": [
    {
     "name": "stdout",
     "output_type": "stream",
     "text": [
      "Cost after iteration 0: 0.49013920299667424\n",
      "Train accuracy: 96.1875417625659 %\n",
      "Test accuracy: 95.9966592427617 %\n"
     ]
    }
   ],
   "source": [
    "# Define model function with batch processing\n",
    "def model(X_train, Y_train, X_test, Y_test, num_iterations=2000, learning_rate=0.5, batch_size=64, print_cost=False):\n",
    "    Y_train = np.array(train_data_output).reshape(1, -1)\n",
    "    assert X_train.shape[1] == Y_train.shape[1], \"Number of samples in X_train and Y_train are not equal\"\n",
    "    w, b = initialize_parameters(X_train.shape[0])\n",
    "    w, b, costs = optimize_batch(w, b, X_train, Y_train, num_iterations, learning_rate, batch_size, print_cost)\n",
    "    Y_prediction_train = predict(w, b, X_train)\n",
    "    Y_prediction_test = predict(w, b, X_test)\n",
    "    train_accuracy = 100 - np.mean(np.abs(Y_prediction_train - Y_train)) * 100\n",
    "    test_accuracy = 100 - np.mean(np.abs(Y_prediction_test - Y_test)) * 100\n",
    "    print(\"Train accuracy: {} %\".format(train_accuracy))\n",
    "    print(\"Test accuracy: {} %\".format(test_accuracy))\n",
    "    model_info = {\"w\": w, \"b\": b, \"costs\": costs, \"train_accuracy\": train_accuracy, \"test_accuracy\": test_accuracy}\n",
    "    return model_info\n",
    "\n",
    "\n",
    "X_train = train_data_vectorized.T\n",
    "Y_train = np.array(train_data_output)\n",
    "X_test = test_data_vectorized.T\n",
    "Y_test = np.array(test_data_output)\n",
    "\n",
    "\n",
    "\n",
    "Y_train = Y_train.reshape(1, -1)\n",
    "\n",
    "model_info = model(X_train, Y_train, X_test, Y_test, num_iterations=10, learning_rate=0.5, batch_size=64, print_cost=True)\n"
   ]
  },
  {
   "cell_type": "markdown",
   "id": "2cc9b1a0",
   "metadata": {},
   "source": [
    "Rushabh"
   ]
  },
  {
   "cell_type": "code",
   "execution_count": 24,
   "id": "f58432f1",
   "metadata": {},
   "outputs": [],
   "source": [
    "import numpy as np\n",
    "import matplotlib.pyplot as plt\n",
    "import h5py\n",
    "import scipy\n",
    "from PIL import Image\n",
    "from scipy import ndimage"
   ]
  },
  {
   "cell_type": "code",
   "execution_count": 25,
   "id": "8890a4d9",
   "metadata": {},
   "outputs": [
    {
     "data": {
      "image/png": "[encoded data removed]",
      "text/plain": [
       "<Figure size 640x480 with 1 Axes>"
      ]
     },
     "metadata": {},
     "output_type": "display_data"
    }
   ],
   "source": [
    "# Plot learning curve (with costs)\n",
    "costs = np.squeeze(model_info['costs'])\n",
    "plt.plot(costs)\n",
    "plt.ylabel('cost')\n",
    "plt.xlabel('iterations (per hundreds)')\n",
    "plt.title(\"Learning rate =\" + str(0.5))\n",
    "plt.show()"
   ]
  },
  {
   "cell_type": "markdown",
   "id": "b54df47e",
   "metadata": {},
   "source": [
    "<h1> Support Vector Machine </h1>"
   ]
  },
  {
   "cell_type": "code",
   "execution_count": 26,
   "id": "d3597057",
   "metadata": {},
   "outputs": [],
   "source": [
    "#Importing required libraries\n",
    "import os\n",
    "import numpy as np\n",
    "import re\n",
    "from matplotlib import pyplot as plt\n",
    "from scipy import optimize\n",
    "from scipy.io import loadmat\n",
    "import utils\n",
    "%matplotlib inline"
   ]
  },
  {
   "cell_type": "code",
   "execution_count": 27,
   "id": "938547e9",
   "metadata": {},
   "outputs": [],
   "source": [
    "from sklearn.svm import SVC\n",
    "from sklearn.metrics import accuracy_score, classification_report"
   ]
  },
  {
   "cell_type": "code",
   "execution_count": 28,
   "id": "2cff337c",
   "metadata": {},
   "outputs": [],
   "source": [
    "News = pd.concat([True_dataset, Fake_dataset])\n",
    "News = News.drop('date', axis=1)"
   ]
  },
  {
   "cell_type": "code",
   "execution_count": 29,
   "id": "85a7c654",
   "metadata": {},
   "outputs": [],
   "source": [
    "News.reset_index(inplace=True)"
   ]
  },
  {
   "cell_type": "code",
   "execution_count": 30,
   "id": "c587c2cc",
   "metadata": {},
   "outputs": [],
   "source": [
    "News['title'] = News['title'].astype(str)\n",
    "News['text'] = News['text'].astype(str)\n"
   ]
  },
  {
   "cell_type": "code",
   "execution_count": 31,
   "id": "620e7e6a",
   "metadata": {},
   "outputs": [],
   "source": [
    "def text_clean(text):  \n",
    "    text = re.sub(r\"http\\S+|www\\S+|https\\S+\", \"\", text)  # Remove URLs\n",
    "    text = re.sub(r\"[^a-zA-Z\\s]\", \"\", text)               # Remove special characters and numbers\n",
    "    text = text.lower()                                   # Convert to lowercase\n",
    "    stop_words = set(stopwords.words('english'))\n",
    "    words = text.split()\n",
    "    filtered_words = [word for word in words if word not in stop_words]  # Remove stopwords\n",
    "    text = ' '.join(filtered_words)\n",
    "    text = re.sub('\\s+', ' ', text).strip()  # Remove extra whitespace\n",
    "    return text"
   ]
  },
  {
   "cell_type": "code",
   "execution_count": 32,
   "id": "8217cea9",
   "metadata": {},
   "outputs": [],
   "source": [
    "News['title'] = News['title'].apply(text_clean)\n",
    "News['text'] = News['text'].apply(text_clean)"
   ]
  },
  {
   "cell_type": "code",
   "execution_count": 33,
   "id": "5d13c806",
   "metadata": {},
   "outputs": [],
   "source": [
    "from nltk.stem import SnowballStemmer"
   ]
  },
  {
   "cell_type": "code",
   "execution_count": 34,
   "id": "edc787f0",
   "metadata": {
    "scrolled": true
   },
   "outputs": [],
   "source": [
    "stemmer = SnowballStemmer('english')"
   ]
  },
  {
   "cell_type": "code",
   "execution_count": 35,
   "id": "7d6a621d",
   "metadata": {},
   "outputs": [],
   "source": [
    "def stem_text(text):\n",
    "    tokens = nltk.word_tokenize(text)  # Tokenize the input text into individual words\n",
    "    stemmed_tokens = [stemmer.stem(token) for token in tokens]  # Stem each token\n",
    "    return ' '.join(stemmed_tokens)  # Join the stemmed tokens back into a single string"
   ]
  },
  {
   "cell_type": "code",
   "execution_count": 36,
   "id": "71aac2ee",
   "metadata": {},
   "outputs": [],
   "source": [
    "News['title'] = News['title'].apply(stem_text)\n",
    "News['text'] = News['text'].apply(stem_text)"
   ]
  },
  {
   "cell_type": "code",
   "execution_count": 37,
   "id": "e49283c2",
   "metadata": {},
   "outputs": [],
   "source": [
    "vectorization = TfidfVectorizer()\n",
    "title_text = News['title'] + \" \" + News['text']\n",
    "vectorized_data = vectorization.fit_transform(title_text)\n",
    "X = vectorized_data\n",
    "Y = News['Output_'].values.ravel()"
   ]
  },
  {
   "cell_type": "code",
   "execution_count": 38,
   "id": "2ab6cc9c",
   "metadata": {},
   "outputs": [],
   "source": [
    "X_train, X_test, y_train, y_test = train_test_split(X, Y, test_size=0.2, random_state=42)"
   ]
  },
  {
   "cell_type": "code",
   "execution_count": 39,
   "id": "25dfa8aa",
   "metadata": {},
   "outputs": [],
   "source": [
    "from sklearn.svm import SVC"
   ]
  },
  {
   "cell_type": "code",
   "execution_count": 40,
   "id": "cf8da85c",
   "metadata": {
    "scrolled": true
   },
   "outputs": [
    {
     "name": "stdout",
     "output_type": "stream",
     "text": [
      "Training Accuracy: 0.9986636226961412\n",
      "Training Classification Report:\n",
      "              precision    recall  f1-score   support\n",
      "\n",
      "           0       1.00      1.00      1.00     18831\n",
      "           1       1.00      1.00      1.00     17087\n",
      "\n",
      "    accuracy                           1.00     35918\n",
      "   macro avg       1.00      1.00      1.00     35918\n",
      "weighted avg       1.00      1.00      1.00     35918\n",
      "\n",
      "Test Accuracy: 0.9952115812917595\n",
      "Test Classification Report:\n",
      "              precision    recall  f1-score   support\n",
      "\n",
      "           0       1.00      0.99      1.00      4650\n",
      "           1       0.99      1.00      1.00      4330\n",
      "\n",
      "    accuracy                           1.00      8980\n",
      "   macro avg       1.00      1.00      1.00      8980\n",
      "weighted avg       1.00      1.00      1.00      8980\n",
      "\n"
     ]
    }
   ],
   "source": [
    "svm_classifier = SVC(kernel='linear')\n",
    "\n",
    "# Train the SVM classifier on the training set\n",
    "svm_classifier.fit(X_train, y_train)\n",
    "\n",
    "# Predictions on the training set\n",
    "y_train_pred = svm_classifier.predict(X_train)\n",
    "\n",
    "# Calculate accuracy on the training set\n",
    "train_accuracy = accuracy_score(y_train, y_train_pred)\n",
    "print(\"Training Accuracy:\", train_accuracy)\n",
    "print(\"Training Classification Report:\")\n",
    "print(classification_report(y_train, y_train_pred))\n",
    "\n",
    "# Predictions on the test set\n",
    "y_test_pred = svm_classifier.predict(X_test)\n",
    "\n",
    "# Calculate accuracy on the test set\n",
    "test_accuracy = accuracy_score(y_test, y_test_pred)\n",
    "print(\"Test Accuracy:\", test_accuracy)\n",
    "print(\"Test Classification Report:\")\n",
    "print(classification_report(y_test, y_test_pred))\n"
   ]
  },
  {
   "cell_type": "code",
   "execution_count": null,
   "id": "8d52a55e",
   "metadata": {},
   "outputs": [],
   "source": [
    "#Not sure why below is not working"
   ]
  },
  {
   "cell_type": "code",
   "execution_count": null,
   "id": "e464c9b1",
   "metadata": {},
   "outputs": [],
   "source": [
    "import matplotlib.pyplot as plt\n",
    "import numpy as np\n",
    "\n",
    "# Range of values for the gamma parameter\n",
    "gamma_values = [0.001, 0.01, 0.1, 1, 10, 100]\n",
    "\n",
    "# Lists to store training and test accuracies\n",
    "train_accuracies = []\n",
    "test_accuracies = []\n",
    "\n",
    "for gamma in gamma_values:\n",
    "    # Initialize SVM classifier with the Gaussian kernel and current gamma value\n",
    "    svm_classifier = SVC(kernel='rbf', gamma=gamma)\n",
    "    \n",
    "    # Train the SVM classifier on the training set\n",
    "    svm_classifier.fit(X_train, y_train)\n",
    "    \n",
    "    # Predictions on the training set\n",
    "    y_train_pred = svm_classifier.predict(X_train)\n",
    "    \n",
    "    # Calculate accuracy on the training set\n",
    "    train_accuracy = accuracy_score(y_train, y_train_pred)\n",
    "    train_accuracies.append(train_accuracy)\n",
    "    \n",
    "    # Predictions on the test set\n",
    "    y_test_pred = svm_classifier.predict(X_test)\n",
    "    \n",
    "    # Calculate accuracy on the test set\n",
    "    test_accuracy = accuracy_score(y_test, y_test_pred)\n",
    "    test_accuracies.append(test_accuracy)\n",
    "\n",
    "# Plot the accuracy versus gamma parameter\n",
    "plt.figure(figsize=(10, 6))\n",
    "plt.plot(gamma_values, train_accuracies, marker='o', label='Training Accuracy')\n",
    "plt.plot(gamma_values, test_accuracies, marker='o', label='Test Accuracy')\n",
    "plt.title('Accuracy vs. Gamma Parameter (Gaussian Kernel)')\n",
    "plt.xlabel('Gamma Parameter')\n",
    "plt.ylabel('Accuracy')\n",
    "plt.xscale('log')\n",
    "plt.xticks(gamma_values)\n",
    "plt.grid(True)\n",
    "plt.legend()\n",
    "plt.show()\n"
   ]
  },
  {
   "cell_type": "code",
   "execution_count": null,
   "id": "590a40c0",
   "metadata": {},
   "outputs": [],
   "source": [
    "# Range of values for the C parameter\n",
    "\n",
    "def dataset3_params(X, y, Xval, yval):\n",
    "    C_values = [0.01, 0.03, 0.1, 0.3, 1, 3, 10, 30]\n",
    "    sigma_values = [0.01, 0.03, 0.1, 0.3, 1, 3, 10, 30]\n",
    "    C = None\n",
    "    sigma = None\n",
    "    min_error = float('inf')\n",
    "    \n",
    "    # ====================== YOUR CODE HERE ======================\n",
    "    for r in C_values:\n",
    "        for s in sigma_values:\n",
    "            model= utils.svmTrain(X, y, r, gaussian_kernel, args=(s,))\n",
    "            predictions = utils.svmPredict(model, Xval)\n",
    "            error = np.mean(predictions != yval)    \n",
    "            if error < min_error:\n",
    "                C = r\n",
    "                sigma = s\n",
    "                min_error = error\n",
    "    # ============================================================\n",
    "    return C, sigma\n",
    "\n",
    "===============================================================\n",
    "svm_classifier = SVC(kernel='linear')\n",
    "\n",
    "# Train the SVM classifier on the training set\n",
    "svm_classifier.fit(X_train, y_train)\n",
    "\n",
    "# Predictions on the training set\n",
    "y_train_pred = svm_classifier.predict(X_train)\n",
    "\n",
    "# Calculate accuracy on the training set\n",
    "train_accuracy = accuracy_score(y_train, y_train_pred)\n",
    "print(\"Training Accuracy:\", train_accuracy)\n",
    "print(\"Training Classification Report:\")\n",
    "print(classification_report(y_train, y_train_pred))\n",
    "\n",
    "# Predictions on the test set\n",
    "y_test_pred = svm_classifier.predict(X_test)\n",
    "\n",
    "# Calculate accuracy on the test set\n",
    "test_accuracy = accuracy_score(y_test, y_test_pred)\n",
    "print(\"Test Accuracy:\", test_accuracy)\n",
    "print(\"Test Classification Report:\")\n",
    "print(classification_report(y_test, y_test_pred))\n",
    "\n",
    "================================================================\n",
    "\n",
    "# Lists to store training and test accuracies\n",
    "train_accuracies = []\n",
    "test_accuracies = []\n",
    "\n",
    "for C in C_values:\n",
    "    # Initialize SVM classifier with the current C value\n",
    "    svm_classifier = SVC(kernel='linear', C=C)\n",
    "    \n",
    "    # Train the SVM classifier on the training set\n",
    "    svm_classifier.fit(X_train, y_train)\n",
    "    \n",
    "    # Predictions on the training set\n",
    "    y_train_pred = svm_classifier.predict(X_train)\n",
    "    \n",
    "    # Calculate accuracy on the training set\n",
    "    train_accuracy = accuracy_score(y_train, y_train_pred)\n",
    "    train_accuracies.append(train_accuracy)\n",
    "    \n",
    "    # Predictions on the test set\n",
    "    y_test_pred = svm_classifier.predict(X_test)\n",
    "    \n",
    "    # Calculate accuracy on the test set\n",
    "    test_accuracy = accuracy_score(y_test, y_test_pred)\n",
    "    test_accuracies.append(test_accuracy)\n",
    "\n",
    "# Plot the accuracy versus C parameter\n",
    "plt.figure(figsize=(10, 6))\n",
    "plt.plot(C_values, train_accuracies, marker='o', label='Training Accuracy')\n",
    "plt.plot(C_values, test_accuracies, marker='o', label='Test Accuracy')\n",
    "plt.title('Accuracy vs. C Parameter')\n",
    "plt.xlabel('C Parameter')\n",
    "plt.ylabel('Accuracy')\n",
    "plt.xscale('log')\n",
    "plt.xticks(C_values)\n",
    "plt.grid(True)\n",
    "plt.legend()\n",
    "plt.show()\n"
   ]
  }
 ],
 "metadata": {
  "kernelspec": {
   "display_name": "Python 3 (ipykernel)",
   "language": "python",
   "name": "python3"
  },
  "language_info": {
   "codemirror_mode": {
    "name": "ipython",
    "version": 3
   },
   "file_extension": ".py",
   "mimetype": "text/x-python",
   "name": "python",
   "nbconvert_exporter": "python",
   "pygments_lexer": "ipython3",
   "version": "3.11.5"
  }
 },
 "nbformat": 4,
 "nbformat_minor": 5
}
